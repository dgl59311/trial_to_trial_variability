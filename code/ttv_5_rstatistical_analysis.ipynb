{
 "cells": [
  {
   "cell_type": "markdown",
   "id": "b3d79578",
   "metadata": {
    "scrolled": true
   },
   "source": [
    "## Statistical analysis: Trial-to-trial variability"
   ]
  },
  {
   "cell_type": "code",
   "execution_count": 2,
   "id": "6b318006",
   "metadata": {},
   "outputs": [],
   "source": [
    "library(lme4)\n",
    "library(MuMIn)\n",
    "library(lmerTest)\n",
    "library(car)\n",
    "library(performance)\n",
    "#https://stat.ethz.ch/~meier/teaching/anova/random-and-mixed-effects-models.html#mixed-effects-models"
   ]
  },
  {
   "cell_type": "code",
   "execution_count": 3,
   "id": "6f2c5353",
   "metadata": {},
   "outputs": [
    {
     "name": "stderr",
     "output_type": "stream",
     "text": [
      "Warning message:\n",
      "\"package 'effectsize' was built under R version 4.0.5\"\n"
     ]
    }
   ],
   "source": [
    "library(effectsize)"
   ]
  },
  {
   "cell_type": "code",
   "execution_count": 23,
   "id": "0ed6fd31",
   "metadata": {},
   "outputs": [],
   "source": [
    "# get the current working directory\n",
    "current_dir <- getwd()\n",
    "# navigate to the parent directory\n",
    "parent_dir <- dirname(current_dir)\n",
    "# read data\n",
    "results <- read.csv(file.path(parent_dir, 'results', '3_results_ica_alignment.csv'))\n",
    "results$Group[results$Group == 1] <- 'Patients'\n",
    "results$Group[results$Group == 2] <- 'Controls'\n",
    "results$Condition[results$Condition == 4] <- 'Vernier'\n",
    "results$Condition[results$Condition == 1] <- 'LSOA'\n",
    "results$Condition[results$Condition == 2] <- 'SSOA'\n",
    "results$Condition[results$Condition == 3] <- 'Mask'\n",
    "# here we go from negative to positive values to represent amplitudes\n",
    "results$MinNonAl <- results$MinNonAl * -1\n",
    "results$MinAl <- results$MinAl * -1\n",
    "results$Gender <-factor(results$Gender)\n",
    "results$Group <-factor(results$Group)\n",
    "results$ID <-factor(results$ID)\n",
    "results$Condition <-factor(results$Condition)\n",
    "results$Condition <- relevel(results$Condition, ref = \"Vernier\")\n",
    "results$Group <- relevel(results$Group, ref = \"Controls\")"
   ]
  },
  {
   "cell_type": "code",
   "execution_count": 24,
   "id": "2421233d",
   "metadata": {},
   "outputs": [
    {
     "name": "stdout",
     "output_type": "stream",
     "text": [
      "[1] \"Non Aligned IC amplitude\"\n"
     ]
    },
    {
     "data": {
      "text/html": [
       "<table class=\"dataframe\">\n",
       "<caption>A data.frame: 9 × 5</caption>\n",
       "<thead>\n",
       "\t<tr><th></th><th scope=col>Estimate</th><th scope=col>Std. Error</th><th scope=col>df</th><th scope=col>t value</th><th scope=col>Pr(&gt;|t|)</th></tr>\n",
       "\t<tr><th></th><th scope=col>&lt;dbl&gt;</th><th scope=col>&lt;dbl&gt;</th><th scope=col>&lt;dbl&gt;</th><th scope=col>&lt;dbl&gt;</th><th scope=col>&lt;dbl&gt;</th></tr>\n",
       "</thead>\n",
       "<tbody>\n",
       "\t<tr><th scope=row>(Intercept)</th><td>22.159</td><td>2.159</td><td>247.796</td><td> 10.265</td><td>0.000</td></tr>\n",
       "\t<tr><th scope=row>Age</th><td>-0.096</td><td>0.057</td><td>237.000</td><td> -1.696</td><td>0.091</td></tr>\n",
       "\t<tr><th scope=row>ConditionLSOA</th><td>-0.100</td><td>0.524</td><td>714.000</td><td> -0.190</td><td>0.849</td></tr>\n",
       "\t<tr><th scope=row>ConditionMask</th><td>-6.826</td><td>0.524</td><td>714.000</td><td>-13.023</td><td>0.000</td></tr>\n",
       "\t<tr><th scope=row>ConditionSSOA</th><td> 1.725</td><td>0.524</td><td>714.000</td><td>  3.290</td><td>0.001</td></tr>\n",
       "\t<tr><th scope=row>GroupPatients</th><td>-6.950</td><td>1.094</td><td>320.076</td><td> -6.353</td><td>0.000</td></tr>\n",
       "\t<tr><th scope=row>ConditionLSOA:GroupPatients</th><td>-0.280</td><td>0.677</td><td>714.000</td><td> -0.414</td><td>0.679</td></tr>\n",
       "\t<tr><th scope=row>ConditionMask:GroupPatients</th><td> 4.025</td><td>0.677</td><td>714.000</td><td>  5.948</td><td>0.000</td></tr>\n",
       "\t<tr><th scope=row>ConditionSSOA:GroupPatients</th><td>-1.190</td><td>0.677</td><td>714.000</td><td> -1.759</td><td>0.079</td></tr>\n",
       "</tbody>\n",
       "</table>\n"
      ],
      "text/latex": [
       "A data.frame: 9 × 5\n",
       "\\begin{tabular}{r|lllll}\n",
       "  & Estimate & Std. Error & df & t value & Pr(>\\textbar{}t\\textbar{})\\\\\n",
       "  & <dbl> & <dbl> & <dbl> & <dbl> & <dbl>\\\\\n",
       "\\hline\n",
       "\t(Intercept) & 22.159 & 2.159 & 247.796 &  10.265 & 0.000\\\\\n",
       "\tAge & -0.096 & 0.057 & 237.000 &  -1.696 & 0.091\\\\\n",
       "\tConditionLSOA & -0.100 & 0.524 & 714.000 &  -0.190 & 0.849\\\\\n",
       "\tConditionMask & -6.826 & 0.524 & 714.000 & -13.023 & 0.000\\\\\n",
       "\tConditionSSOA &  1.725 & 0.524 & 714.000 &   3.290 & 0.001\\\\\n",
       "\tGroupPatients & -6.950 & 1.094 & 320.076 &  -6.353 & 0.000\\\\\n",
       "\tConditionLSOA:GroupPatients & -0.280 & 0.677 & 714.000 &  -0.414 & 0.679\\\\\n",
       "\tConditionMask:GroupPatients &  4.025 & 0.677 & 714.000 &   5.948 & 0.000\\\\\n",
       "\tConditionSSOA:GroupPatients & -1.190 & 0.677 & 714.000 &  -1.759 & 0.079\\\\\n",
       "\\end{tabular}\n"
      ],
      "text/markdown": [
       "\n",
       "A data.frame: 9 × 5\n",
       "\n",
       "| <!--/--> | Estimate &lt;dbl&gt; | Std. Error &lt;dbl&gt; | df &lt;dbl&gt; | t value &lt;dbl&gt; | Pr(&gt;|t|) &lt;dbl&gt; |\n",
       "|---|---|---|---|---|---|\n",
       "| (Intercept) | 22.159 | 2.159 | 247.796 |  10.265 | 0.000 |\n",
       "| Age | -0.096 | 0.057 | 237.000 |  -1.696 | 0.091 |\n",
       "| ConditionLSOA | -0.100 | 0.524 | 714.000 |  -0.190 | 0.849 |\n",
       "| ConditionMask | -6.826 | 0.524 | 714.000 | -13.023 | 0.000 |\n",
       "| ConditionSSOA |  1.725 | 0.524 | 714.000 |   3.290 | 0.001 |\n",
       "| GroupPatients | -6.950 | 1.094 | 320.076 |  -6.353 | 0.000 |\n",
       "| ConditionLSOA:GroupPatients | -0.280 | 0.677 | 714.000 |  -0.414 | 0.679 |\n",
       "| ConditionMask:GroupPatients |  4.025 | 0.677 | 714.000 |   5.948 | 0.000 |\n",
       "| ConditionSSOA:GroupPatients | -1.190 | 0.677 | 714.000 |  -1.759 | 0.079 |\n",
       "\n"
      ],
      "text/plain": [
       "                            Estimate Std. Error df      t value Pr(>|t|)\n",
       "(Intercept)                 22.159   2.159      247.796  10.265 0.000   \n",
       "Age                         -0.096   0.057      237.000  -1.696 0.091   \n",
       "ConditionLSOA               -0.100   0.524      714.000  -0.190 0.849   \n",
       "ConditionMask               -6.826   0.524      714.000 -13.023 0.000   \n",
       "ConditionSSOA                1.725   0.524      714.000   3.290 0.001   \n",
       "GroupPatients               -6.950   1.094      320.076  -6.353 0.000   \n",
       "ConditionLSOA:GroupPatients -0.280   0.677      714.000  -0.414 0.679   \n",
       "ConditionMask:GroupPatients  4.025   0.677      714.000   5.948 0.000   \n",
       "ConditionSSOA:GroupPatients -1.190   0.677      714.000  -1.759 0.079   "
      ]
     },
     "metadata": {},
     "output_type": "display_data"
    },
    {
     "name": "stdout",
     "output_type": "stream",
     "text": [
      "[1] \"Aligned IC amplitude\"\n"
     ]
    },
    {
     "data": {
      "text/html": [
       "<table class=\"dataframe\">\n",
       "<caption>A data.frame: 9 × 5</caption>\n",
       "<thead>\n",
       "\t<tr><th></th><th scope=col>Estimate</th><th scope=col>Std. Error</th><th scope=col>df</th><th scope=col>t value</th><th scope=col>Pr(&gt;|t|)</th></tr>\n",
       "\t<tr><th></th><th scope=col>&lt;dbl&gt;</th><th scope=col>&lt;dbl&gt;</th><th scope=col>&lt;dbl&gt;</th><th scope=col>&lt;dbl&gt;</th><th scope=col>&lt;dbl&gt;</th></tr>\n",
       "</thead>\n",
       "<tbody>\n",
       "\t<tr><th scope=row>(Intercept)</th><td>26.881</td><td>2.118</td><td>246.828</td><td> 12.691</td><td>0.000</td></tr>\n",
       "\t<tr><th scope=row>Age</th><td>-0.083</td><td>0.056</td><td>237.000</td><td> -1.496</td><td>0.136</td></tr>\n",
       "\t<tr><th scope=row>ConditionLSOA</th><td> 0.082</td><td>0.491</td><td>714.000</td><td>  0.167</td><td>0.867</td></tr>\n",
       "\t<tr><th scope=row>ConditionMask</th><td>-5.938</td><td>0.491</td><td>714.000</td><td>-12.086</td><td>0.000</td></tr>\n",
       "\t<tr><th scope=row>ConditionSSOA</th><td> 0.902</td><td>0.491</td><td>714.000</td><td>  1.837</td><td>0.067</td></tr>\n",
       "\t<tr><th scope=row>GroupPatients</th><td>-4.163</td><td>1.068</td><td>312.440</td><td> -3.900</td><td>0.000</td></tr>\n",
       "\t<tr><th scope=row>ConditionLSOA:GroupPatients</th><td>-0.621</td><td>0.634</td><td>714.000</td><td> -0.979</td><td>0.328</td></tr>\n",
       "\t<tr><th scope=row>ConditionMask:GroupPatients</th><td> 2.501</td><td>0.634</td><td>714.000</td><td>  3.943</td><td>0.000</td></tr>\n",
       "\t<tr><th scope=row>ConditionSSOA:GroupPatients</th><td>-1.157</td><td>0.634</td><td>714.000</td><td> -1.825</td><td>0.068</td></tr>\n",
       "</tbody>\n",
       "</table>\n"
      ],
      "text/latex": [
       "A data.frame: 9 × 5\n",
       "\\begin{tabular}{r|lllll}\n",
       "  & Estimate & Std. Error & df & t value & Pr(>\\textbar{}t\\textbar{})\\\\\n",
       "  & <dbl> & <dbl> & <dbl> & <dbl> & <dbl>\\\\\n",
       "\\hline\n",
       "\t(Intercept) & 26.881 & 2.118 & 246.828 &  12.691 & 0.000\\\\\n",
       "\tAge & -0.083 & 0.056 & 237.000 &  -1.496 & 0.136\\\\\n",
       "\tConditionLSOA &  0.082 & 0.491 & 714.000 &   0.167 & 0.867\\\\\n",
       "\tConditionMask & -5.938 & 0.491 & 714.000 & -12.086 & 0.000\\\\\n",
       "\tConditionSSOA &  0.902 & 0.491 & 714.000 &   1.837 & 0.067\\\\\n",
       "\tGroupPatients & -4.163 & 1.068 & 312.440 &  -3.900 & 0.000\\\\\n",
       "\tConditionLSOA:GroupPatients & -0.621 & 0.634 & 714.000 &  -0.979 & 0.328\\\\\n",
       "\tConditionMask:GroupPatients &  2.501 & 0.634 & 714.000 &   3.943 & 0.000\\\\\n",
       "\tConditionSSOA:GroupPatients & -1.157 & 0.634 & 714.000 &  -1.825 & 0.068\\\\\n",
       "\\end{tabular}\n"
      ],
      "text/markdown": [
       "\n",
       "A data.frame: 9 × 5\n",
       "\n",
       "| <!--/--> | Estimate &lt;dbl&gt; | Std. Error &lt;dbl&gt; | df &lt;dbl&gt; | t value &lt;dbl&gt; | Pr(&gt;|t|) &lt;dbl&gt; |\n",
       "|---|---|---|---|---|---|\n",
       "| (Intercept) | 26.881 | 2.118 | 246.828 |  12.691 | 0.000 |\n",
       "| Age | -0.083 | 0.056 | 237.000 |  -1.496 | 0.136 |\n",
       "| ConditionLSOA |  0.082 | 0.491 | 714.000 |   0.167 | 0.867 |\n",
       "| ConditionMask | -5.938 | 0.491 | 714.000 | -12.086 | 0.000 |\n",
       "| ConditionSSOA |  0.902 | 0.491 | 714.000 |   1.837 | 0.067 |\n",
       "| GroupPatients | -4.163 | 1.068 | 312.440 |  -3.900 | 0.000 |\n",
       "| ConditionLSOA:GroupPatients | -0.621 | 0.634 | 714.000 |  -0.979 | 0.328 |\n",
       "| ConditionMask:GroupPatients |  2.501 | 0.634 | 714.000 |   3.943 | 0.000 |\n",
       "| ConditionSSOA:GroupPatients | -1.157 | 0.634 | 714.000 |  -1.825 | 0.068 |\n",
       "\n"
      ],
      "text/plain": [
       "                            Estimate Std. Error df      t value Pr(>|t|)\n",
       "(Intercept)                 26.881   2.118      246.828  12.691 0.000   \n",
       "Age                         -0.083   0.056      237.000  -1.496 0.136   \n",
       "ConditionLSOA                0.082   0.491      714.000   0.167 0.867   \n",
       "ConditionMask               -5.938   0.491      714.000 -12.086 0.000   \n",
       "ConditionSSOA                0.902   0.491      714.000   1.837 0.067   \n",
       "GroupPatients               -4.163   1.068      312.440  -3.900 0.000   \n",
       "ConditionLSOA:GroupPatients -0.621   0.634      714.000  -0.979 0.328   \n",
       "ConditionMask:GroupPatients  2.501   0.634      714.000   3.943 0.000   \n",
       "ConditionSSOA:GroupPatients -1.157   0.634      714.000  -1.825 0.068   "
      ]
     },
     "metadata": {},
     "output_type": "display_data"
    },
    {
     "name": "stdout",
     "output_type": "stream",
     "text": [
      "[1] \"IC CV\"\n"
     ]
    },
    {
     "data": {
      "text/html": [
       "<table class=\"dataframe\">\n",
       "<caption>A data.frame: 9 × 5</caption>\n",
       "<thead>\n",
       "\t<tr><th></th><th scope=col>Estimate</th><th scope=col>Std. Error</th><th scope=col>df</th><th scope=col>t value</th><th scope=col>Pr(&gt;|t|)</th></tr>\n",
       "\t<tr><th></th><th scope=col>&lt;dbl&gt;</th><th scope=col>&lt;dbl&gt;</th><th scope=col>&lt;dbl&gt;</th><th scope=col>&lt;dbl&gt;</th><th scope=col>&lt;dbl&gt;</th></tr>\n",
       "</thead>\n",
       "<tbody>\n",
       "\t<tr><th scope=row>(Intercept)</th><td>10.993</td><td>1.815</td><td>308.855</td><td> 6.057</td><td>0.000</td></tr>\n",
       "\t<tr><th scope=row>Age</th><td> 0.005</td><td>0.045</td><td>237.000</td><td> 0.116</td><td>0.908</td></tr>\n",
       "\t<tr><th scope=row>ConditionLSOA</th><td> 0.138</td><td>1.056</td><td>714.000</td><td> 0.131</td><td>0.896</td></tr>\n",
       "\t<tr><th scope=row>ConditionMask</th><td> 3.706</td><td>1.056</td><td>714.000</td><td> 3.508</td><td>0.000</td></tr>\n",
       "\t<tr><th scope=row>ConditionSSOA</th><td>-1.702</td><td>1.056</td><td>714.000</td><td>-1.611</td><td>0.108</td></tr>\n",
       "\t<tr><th scope=row>GroupPatients</th><td> 3.854</td><td>1.159</td><td>738.734</td><td> 3.324</td><td>0.001</td></tr>\n",
       "\t<tr><th scope=row>ConditionLSOA:GroupPatients</th><td> 0.170</td><td>1.364</td><td>714.000</td><td> 0.125</td><td>0.901</td></tr>\n",
       "\t<tr><th scope=row>ConditionMask:GroupPatients</th><td>-0.687</td><td>1.364</td><td>714.000</td><td>-0.503</td><td>0.615</td></tr>\n",
       "\t<tr><th scope=row>ConditionSSOA:GroupPatients</th><td> 1.129</td><td>1.364</td><td>714.000</td><td> 0.828</td><td>0.408</td></tr>\n",
       "</tbody>\n",
       "</table>\n"
      ],
      "text/latex": [
       "A data.frame: 9 × 5\n",
       "\\begin{tabular}{r|lllll}\n",
       "  & Estimate & Std. Error & df & t value & Pr(>\\textbar{}t\\textbar{})\\\\\n",
       "  & <dbl> & <dbl> & <dbl> & <dbl> & <dbl>\\\\\n",
       "\\hline\n",
       "\t(Intercept) & 10.993 & 1.815 & 308.855 &  6.057 & 0.000\\\\\n",
       "\tAge &  0.005 & 0.045 & 237.000 &  0.116 & 0.908\\\\\n",
       "\tConditionLSOA &  0.138 & 1.056 & 714.000 &  0.131 & 0.896\\\\\n",
       "\tConditionMask &  3.706 & 1.056 & 714.000 &  3.508 & 0.000\\\\\n",
       "\tConditionSSOA & -1.702 & 1.056 & 714.000 & -1.611 & 0.108\\\\\n",
       "\tGroupPatients &  3.854 & 1.159 & 738.734 &  3.324 & 0.001\\\\\n",
       "\tConditionLSOA:GroupPatients &  0.170 & 1.364 & 714.000 &  0.125 & 0.901\\\\\n",
       "\tConditionMask:GroupPatients & -0.687 & 1.364 & 714.000 & -0.503 & 0.615\\\\\n",
       "\tConditionSSOA:GroupPatients &  1.129 & 1.364 & 714.000 &  0.828 & 0.408\\\\\n",
       "\\end{tabular}\n"
      ],
      "text/markdown": [
       "\n",
       "A data.frame: 9 × 5\n",
       "\n",
       "| <!--/--> | Estimate &lt;dbl&gt; | Std. Error &lt;dbl&gt; | df &lt;dbl&gt; | t value &lt;dbl&gt; | Pr(&gt;|t|) &lt;dbl&gt; |\n",
       "|---|---|---|---|---|---|\n",
       "| (Intercept) | 10.993 | 1.815 | 308.855 |  6.057 | 0.000 |\n",
       "| Age |  0.005 | 0.045 | 237.000 |  0.116 | 0.908 |\n",
       "| ConditionLSOA |  0.138 | 1.056 | 714.000 |  0.131 | 0.896 |\n",
       "| ConditionMask |  3.706 | 1.056 | 714.000 |  3.508 | 0.000 |\n",
       "| ConditionSSOA | -1.702 | 1.056 | 714.000 | -1.611 | 0.108 |\n",
       "| GroupPatients |  3.854 | 1.159 | 738.734 |  3.324 | 0.001 |\n",
       "| ConditionLSOA:GroupPatients |  0.170 | 1.364 | 714.000 |  0.125 | 0.901 |\n",
       "| ConditionMask:GroupPatients | -0.687 | 1.364 | 714.000 | -0.503 | 0.615 |\n",
       "| ConditionSSOA:GroupPatients |  1.129 | 1.364 | 714.000 |  0.828 | 0.408 |\n",
       "\n"
      ],
      "text/plain": [
       "                            Estimate Std. Error df      t value Pr(>|t|)\n",
       "(Intercept)                 10.993   1.815      308.855  6.057  0.000   \n",
       "Age                          0.005   0.045      237.000  0.116  0.908   \n",
       "ConditionLSOA                0.138   1.056      714.000  0.131  0.896   \n",
       "ConditionMask                3.706   1.056      714.000  3.508  0.000   \n",
       "ConditionSSOA               -1.702   1.056      714.000 -1.611  0.108   \n",
       "GroupPatients                3.854   1.159      738.734  3.324  0.001   \n",
       "ConditionLSOA:GroupPatients  0.170   1.364      714.000  0.125  0.901   \n",
       "ConditionMask:GroupPatients -0.687   1.364      714.000 -0.503  0.615   \n",
       "ConditionSSOA:GroupPatients  1.129   1.364      714.000  0.828  0.408   "
      ]
     },
     "metadata": {},
     "output_type": "display_data"
    }
   ],
   "source": [
    "# Main analysis\n",
    "lmm_amp <- lmer(MinNonAl ~ Age + Condition*Group + (1|ID), data=results, REML=TRUE)\n",
    "lmm_amp_aligned <- lmer(MinAl ~ Age +Condition*Group + (1|ID), data=results, REML=TRUE)\n",
    "lmm_cv <- lmer(CV ~ Age + Condition*Group + (1|ID), data=results, REML=TRUE)\n",
    "\n",
    "print(\"Non Aligned IC amplitude\")\n",
    "ampsum <- summary(lmm_amp)\n",
    "model_amp <- as.data.frame(round(ampsum$coefficients, 3))\n",
    "model_amp\n",
    "\n",
    "print(\"Aligned IC amplitude\")\n",
    "ampsum <- summary(lmm_amp_aligned)\n",
    "model_ampal <- as.data.frame(round(ampsum$coefficients, 3))\n",
    "model_ampal\n",
    "\n",
    "print(\"IC CV\")\n",
    "cvsum <- summary(lmm_cv)\n",
    "model_cv <- as.data.frame(round(cvsum$coefficients, 3))\n",
    "model_cv"
   ]
  },
  {
   "cell_type": "code",
   "execution_count": 25,
   "id": "2424edde",
   "metadata": {},
   "outputs": [
    {
     "name": "stdout",
     "output_type": "stream",
     "text": [
      "[1] \"aov amplitude\"\n"
     ]
    },
    {
     "data": {
      "text/html": [
       "<table class=\"dataframe\">\n",
       "<caption>A effectsize_anova: 4 × 5</caption>\n",
       "<thead>\n",
       "\t<tr><th scope=col>Parameter</th><th scope=col>Eta2_partial</th><th scope=col>CI</th><th scope=col>CI_low</th><th scope=col>CI_high</th></tr>\n",
       "\t<tr><th scope=col>&lt;chr&gt;</th><th scope=col>&lt;dbl&gt;</th><th scope=col>&lt;dbl&gt;</th><th scope=col>&lt;dbl&gt;</th><th scope=col>&lt;dbl&gt;</th></tr>\n",
       "</thead>\n",
       "<tbody>\n",
       "\t<tr><td>Age            </td><td>0.01198541</td><td>0.95</td><td>0.00000000</td><td>0.05348937</td></tr>\n",
       "\t<tr><td>Condition      </td><td>0.30463644</td><td>0.95</td><td>0.25069701</td><td>0.35427087</td></tr>\n",
       "\t<tr><td>Group          </td><td>0.14086233</td><td>0.95</td><td>0.06893322</td><td>0.22378899</td></tr>\n",
       "\t<tr><td>Condition:Group</td><td>0.08947270</td><td>0.95</td><td>0.05150438</td><td>0.12878790</td></tr>\n",
       "</tbody>\n",
       "</table>\n"
      ],
      "text/latex": [
       "A effectsize\\_anova: 4 × 5\n",
       "\\begin{tabular}{lllll}\n",
       " Parameter & Eta2\\_partial & CI & CI\\_low & CI\\_high\\\\\n",
       " <chr> & <dbl> & <dbl> & <dbl> & <dbl>\\\\\n",
       "\\hline\n",
       "\t Age             & 0.01198541 & 0.95 & 0.00000000 & 0.05348937\\\\\n",
       "\t Condition       & 0.30463644 & 0.95 & 0.25069701 & 0.35427087\\\\\n",
       "\t Group           & 0.14086233 & 0.95 & 0.06893322 & 0.22378899\\\\\n",
       "\t Condition:Group & 0.08947270 & 0.95 & 0.05150438 & 0.12878790\\\\\n",
       "\\end{tabular}\n"
      ],
      "text/markdown": [
       "\n",
       "A effectsize_anova: 4 × 5\n",
       "\n",
       "| Parameter &lt;chr&gt; | Eta2_partial &lt;dbl&gt; | CI &lt;dbl&gt; | CI_low &lt;dbl&gt; | CI_high &lt;dbl&gt; |\n",
       "|---|---|---|---|---|\n",
       "| Age             | 0.01198541 | 0.95 | 0.00000000 | 0.05348937 |\n",
       "| Condition       | 0.30463644 | 0.95 | 0.25069701 | 0.35427087 |\n",
       "| Group           | 0.14086233 | 0.95 | 0.06893322 | 0.22378899 |\n",
       "| Condition:Group | 0.08947270 | 0.95 | 0.05150438 | 0.12878790 |\n",
       "\n"
      ],
      "text/plain": [
       "  Parameter       Eta2_partial CI   CI_low     CI_high   \n",
       "1 Age             0.01198541   0.95 0.00000000 0.05348937\n",
       "2 Condition       0.30463644   0.95 0.25069701 0.35427087\n",
       "3 Group           0.14086233   0.95 0.06893322 0.22378899\n",
       "4 Condition:Group 0.08947270   0.95 0.05150438 0.12878790"
      ]
     },
     "metadata": {},
     "output_type": "display_data"
    },
    {
     "data": {
      "text/html": [
       "<style>\n",
       ".list-inline {list-style: none; margin:0; padding: 0}\n",
       ".list-inline>li {display: inline-block}\n",
       ".list-inline>li:not(:last-child)::after {content: \"\\00b7\"; padding: 0 .5ex}\n",
       "</style>\n",
       "<ol class=list-inline><li>0.012</li><li>0.305</li><li>0.141</li><li>0.089</li></ol>\n"
      ],
      "text/latex": [
       "\\begin{enumerate*}\n",
       "\\item 0.012\n",
       "\\item 0.305\n",
       "\\item 0.141\n",
       "\\item 0.089\n",
       "\\end{enumerate*}\n"
      ],
      "text/markdown": [
       "1. 0.012\n",
       "2. 0.305\n",
       "3. 0.141\n",
       "4. 0.089\n",
       "\n",
       "\n"
      ],
      "text/plain": [
       "[1] 0.012 0.305 0.141 0.089"
      ]
     },
     "metadata": {},
     "output_type": "display_data"
    },
    {
     "data": {
      "text/html": [
       "<table class=\"dataframe\">\n",
       "<caption>A data.frame: 4 × 6</caption>\n",
       "<thead>\n",
       "\t<tr><th></th><th scope=col>Sum Sq</th><th scope=col>Mean Sq</th><th scope=col>NumDF</th><th scope=col>DenDF</th><th scope=col>F value</th><th scope=col>Pr(&gt;F)</th></tr>\n",
       "\t<tr><th></th><th scope=col>&lt;dbl&gt;</th><th scope=col>&lt;dbl&gt;</th><th scope=col>&lt;dbl&gt;</th><th scope=col>&lt;dbl&gt;</th><th scope=col>&lt;dbl&gt;</th><th scope=col>&lt;dbl&gt;</th></tr>\n",
       "</thead>\n",
       "<tbody>\n",
       "\t<tr><th scope=row>Age</th><td>  37.918</td><td>  37.918</td><td>1</td><td>237</td><td>  2.875</td><td>0.091</td></tr>\n",
       "\t<tr><th scope=row>Condition</th><td>4124.894</td><td>1374.965</td><td>3</td><td>714</td><td>104.267</td><td>0.000</td></tr>\n",
       "\t<tr><th scope=row>Group</th><td> 512.420</td><td> 512.420</td><td>1</td><td>237</td><td> 38.858</td><td>0.000</td></tr>\n",
       "\t<tr><th scope=row>Condition:Group</th><td> 925.212</td><td> 308.404</td><td>3</td><td>714</td><td> 23.387</td><td>0.000</td></tr>\n",
       "</tbody>\n",
       "</table>\n"
      ],
      "text/latex": [
       "A data.frame: 4 × 6\n",
       "\\begin{tabular}{r|llllll}\n",
       "  & Sum Sq & Mean Sq & NumDF & DenDF & F value & Pr(>F)\\\\\n",
       "  & <dbl> & <dbl> & <dbl> & <dbl> & <dbl> & <dbl>\\\\\n",
       "\\hline\n",
       "\tAge &   37.918 &   37.918 & 1 & 237 &   2.875 & 0.091\\\\\n",
       "\tCondition & 4124.894 & 1374.965 & 3 & 714 & 104.267 & 0.000\\\\\n",
       "\tGroup &  512.420 &  512.420 & 1 & 237 &  38.858 & 0.000\\\\\n",
       "\tCondition:Group &  925.212 &  308.404 & 3 & 714 &  23.387 & 0.000\\\\\n",
       "\\end{tabular}\n"
      ],
      "text/markdown": [
       "\n",
       "A data.frame: 4 × 6\n",
       "\n",
       "| <!--/--> | Sum Sq &lt;dbl&gt; | Mean Sq &lt;dbl&gt; | NumDF &lt;dbl&gt; | DenDF &lt;dbl&gt; | F value &lt;dbl&gt; | Pr(&gt;F) &lt;dbl&gt; |\n",
       "|---|---|---|---|---|---|---|\n",
       "| Age |   37.918 |   37.918 | 1 | 237 |   2.875 | 0.091 |\n",
       "| Condition | 4124.894 | 1374.965 | 3 | 714 | 104.267 | 0.000 |\n",
       "| Group |  512.420 |  512.420 | 1 | 237 |  38.858 | 0.000 |\n",
       "| Condition:Group |  925.212 |  308.404 | 3 | 714 |  23.387 | 0.000 |\n",
       "\n"
      ],
      "text/plain": [
       "                Sum Sq   Mean Sq  NumDF DenDF F value Pr(>F)\n",
       "Age               37.918   37.918 1     237     2.875 0.091 \n",
       "Condition       4124.894 1374.965 3     714   104.267 0.000 \n",
       "Group            512.420  512.420 1     237    38.858 0.000 \n",
       "Condition:Group  925.212  308.404 3     714    23.387 0.000 "
      ]
     },
     "metadata": {},
     "output_type": "display_data"
    },
    {
     "name": "stdout",
     "output_type": "stream",
     "text": [
      "[1] \"aov amplitude aligned\"\n"
     ]
    },
    {
     "data": {
      "text/html": [
       "<table class=\"dataframe\">\n",
       "<caption>A effectsize_anova: 4 × 5</caption>\n",
       "<thead>\n",
       "\t<tr><th scope=col>Parameter</th><th scope=col>Eta2_partial</th><th scope=col>CI</th><th scope=col>CI_low</th><th scope=col>CI_high</th></tr>\n",
       "\t<tr><th scope=col>&lt;chr&gt;</th><th scope=col>&lt;dbl&gt;</th><th scope=col>&lt;dbl&gt;</th><th scope=col>&lt;dbl&gt;</th><th scope=col>&lt;dbl&gt;</th></tr>\n",
       "</thead>\n",
       "<tbody>\n",
       "\t<tr><td>Age            </td><td>0.009358842</td><td>0.95</td><td>0.00000000</td><td>0.04806660</td></tr>\n",
       "\t<tr><td>Condition      </td><td>0.299115649</td><td>0.95</td><td>0.24520552</td><td>0.34880634</td></tr>\n",
       "\t<tr><td>Group          </td><td>0.063389187</td><td>0.95</td><td>0.01672980</td><td>0.13162860</td></tr>\n",
       "\t<tr><td>Condition:Group</td><td>0.051819272</td><td>0.95</td><td>0.02255174</td><td>0.08398352</td></tr>\n",
       "</tbody>\n",
       "</table>\n"
      ],
      "text/latex": [
       "A effectsize\\_anova: 4 × 5\n",
       "\\begin{tabular}{lllll}\n",
       " Parameter & Eta2\\_partial & CI & CI\\_low & CI\\_high\\\\\n",
       " <chr> & <dbl> & <dbl> & <dbl> & <dbl>\\\\\n",
       "\\hline\n",
       "\t Age             & 0.009358842 & 0.95 & 0.00000000 & 0.04806660\\\\\n",
       "\t Condition       & 0.299115649 & 0.95 & 0.24520552 & 0.34880634\\\\\n",
       "\t Group           & 0.063389187 & 0.95 & 0.01672980 & 0.13162860\\\\\n",
       "\t Condition:Group & 0.051819272 & 0.95 & 0.02255174 & 0.08398352\\\\\n",
       "\\end{tabular}\n"
      ],
      "text/markdown": [
       "\n",
       "A effectsize_anova: 4 × 5\n",
       "\n",
       "| Parameter &lt;chr&gt; | Eta2_partial &lt;dbl&gt; | CI &lt;dbl&gt; | CI_low &lt;dbl&gt; | CI_high &lt;dbl&gt; |\n",
       "|---|---|---|---|---|\n",
       "| Age             | 0.009358842 | 0.95 | 0.00000000 | 0.04806660 |\n",
       "| Condition       | 0.299115649 | 0.95 | 0.24520552 | 0.34880634 |\n",
       "| Group           | 0.063389187 | 0.95 | 0.01672980 | 0.13162860 |\n",
       "| Condition:Group | 0.051819272 | 0.95 | 0.02255174 | 0.08398352 |\n",
       "\n"
      ],
      "text/plain": [
       "  Parameter       Eta2_partial CI   CI_low     CI_high   \n",
       "1 Age             0.009358842  0.95 0.00000000 0.04806660\n",
       "2 Condition       0.299115649  0.95 0.24520552 0.34880634\n",
       "3 Group           0.063389187  0.95 0.01672980 0.13162860\n",
       "4 Condition:Group 0.051819272  0.95 0.02255174 0.08398352"
      ]
     },
     "metadata": {},
     "output_type": "display_data"
    },
    {
     "data": {
      "text/html": [
       "<style>\n",
       ".list-inline {list-style: none; margin:0; padding: 0}\n",
       ".list-inline>li {display: inline-block}\n",
       ".list-inline>li:not(:last-child)::after {content: \"\\00b7\"; padding: 0 .5ex}\n",
       "</style>\n",
       "<ol class=list-inline><li>0.009</li><li>0.299</li><li>0.063</li><li>0.052</li></ol>\n"
      ],
      "text/latex": [
       "\\begin{enumerate*}\n",
       "\\item 0.009\n",
       "\\item 0.299\n",
       "\\item 0.063\n",
       "\\item 0.052\n",
       "\\end{enumerate*}\n"
      ],
      "text/markdown": [
       "1. 0.009\n",
       "2. 0.299\n",
       "3. 0.063\n",
       "4. 0.052\n",
       "\n",
       "\n"
      ],
      "text/plain": [
       "[1] 0.009 0.299 0.063 0.052"
      ]
     },
     "metadata": {},
     "output_type": "display_data"
    },
    {
     "data": {
      "text/html": [
       "<table class=\"dataframe\">\n",
       "<caption>A data.frame: 4 × 6</caption>\n",
       "<thead>\n",
       "\t<tr><th></th><th scope=col>Sum Sq</th><th scope=col>Mean Sq</th><th scope=col>NumDF</th><th scope=col>DenDF</th><th scope=col>F value</th><th scope=col>Pr(&gt;F)</th></tr>\n",
       "\t<tr><th></th><th scope=col>&lt;dbl&gt;</th><th scope=col>&lt;dbl&gt;</th><th scope=col>&lt;dbl&gt;</th><th scope=col>&lt;dbl&gt;</th><th scope=col>&lt;dbl&gt;</th><th scope=col>&lt;dbl&gt;</th></tr>\n",
       "</thead>\n",
       "<tbody>\n",
       "\t<tr><th scope=row>Age</th><td>  25.951</td><td>  25.951</td><td>1</td><td>237</td><td>  2.239</td><td>0.136</td></tr>\n",
       "\t<tr><th scope=row>Condition</th><td>3531.165</td><td>1177.055</td><td>3</td><td>714</td><td>101.571</td><td>0.000</td></tr>\n",
       "\t<tr><th scope=row>Group</th><td> 185.882</td><td> 185.882</td><td>1</td><td>237</td><td> 16.040</td><td>0.000</td></tr>\n",
       "\t<tr><th scope=row>Condition:Group</th><td> 452.202</td><td> 150.734</td><td>3</td><td>714</td><td> 13.007</td><td>0.000</td></tr>\n",
       "</tbody>\n",
       "</table>\n"
      ],
      "text/latex": [
       "A data.frame: 4 × 6\n",
       "\\begin{tabular}{r|llllll}\n",
       "  & Sum Sq & Mean Sq & NumDF & DenDF & F value & Pr(>F)\\\\\n",
       "  & <dbl> & <dbl> & <dbl> & <dbl> & <dbl> & <dbl>\\\\\n",
       "\\hline\n",
       "\tAge &   25.951 &   25.951 & 1 & 237 &   2.239 & 0.136\\\\\n",
       "\tCondition & 3531.165 & 1177.055 & 3 & 714 & 101.571 & 0.000\\\\\n",
       "\tGroup &  185.882 &  185.882 & 1 & 237 &  16.040 & 0.000\\\\\n",
       "\tCondition:Group &  452.202 &  150.734 & 3 & 714 &  13.007 & 0.000\\\\\n",
       "\\end{tabular}\n"
      ],
      "text/markdown": [
       "\n",
       "A data.frame: 4 × 6\n",
       "\n",
       "| <!--/--> | Sum Sq &lt;dbl&gt; | Mean Sq &lt;dbl&gt; | NumDF &lt;dbl&gt; | DenDF &lt;dbl&gt; | F value &lt;dbl&gt; | Pr(&gt;F) &lt;dbl&gt; |\n",
       "|---|---|---|---|---|---|---|\n",
       "| Age |   25.951 |   25.951 | 1 | 237 |   2.239 | 0.136 |\n",
       "| Condition | 3531.165 | 1177.055 | 3 | 714 | 101.571 | 0.000 |\n",
       "| Group |  185.882 |  185.882 | 1 | 237 |  16.040 | 0.000 |\n",
       "| Condition:Group |  452.202 |  150.734 | 3 | 714 |  13.007 | 0.000 |\n",
       "\n"
      ],
      "text/plain": [
       "                Sum Sq   Mean Sq  NumDF DenDF F value Pr(>F)\n",
       "Age               25.951   25.951 1     237     2.239 0.136 \n",
       "Condition       3531.165 1177.055 3     714   101.571 0.000 \n",
       "Group            185.882  185.882 1     237    16.040 0.000 \n",
       "Condition:Group  452.202  150.734 3     714    13.007 0.000 "
      ]
     },
     "metadata": {},
     "output_type": "display_data"
    },
    {
     "name": "stdout",
     "output_type": "stream",
     "text": [
      "[1] \"aov cv\"\n"
     ]
    },
    {
     "data": {
      "text/html": [
       "<table class=\"dataframe\">\n",
       "<caption>A effectsize_anova: 4 × 5</caption>\n",
       "<thead>\n",
       "\t<tr><th scope=col>Parameter</th><th scope=col>Eta2_partial</th><th scope=col>CI</th><th scope=col>CI_low</th><th scope=col>CI_high</th></tr>\n",
       "\t<tr><th scope=col>&lt;chr&gt;</th><th scope=col>&lt;dbl&gt;</th><th scope=col>&lt;dbl&gt;</th><th scope=col>&lt;dbl&gt;</th><th scope=col>&lt;dbl&gt;</th></tr>\n",
       "</thead>\n",
       "<tbody>\n",
       "\t<tr><td>Age            </td><td>5.906824e-05</td><td>0.95</td><td>0.00000000</td><td>0.01111196</td></tr>\n",
       "\t<tr><td>Condition      </td><td>6.115509e-02</td><td>0.95</td><td>0.02936239</td><td>0.09544019</td></tr>\n",
       "\t<tr><td>Group          </td><td>9.485672e-02</td><td>0.95</td><td>0.03583831</td><td>0.17089362</td></tr>\n",
       "\t<tr><td>Condition:Group</td><td>2.527210e-03</td><td>0.95</td><td>0.00000000</td><td>0.01062834</td></tr>\n",
       "</tbody>\n",
       "</table>\n"
      ],
      "text/latex": [
       "A effectsize\\_anova: 4 × 5\n",
       "\\begin{tabular}{lllll}\n",
       " Parameter & Eta2\\_partial & CI & CI\\_low & CI\\_high\\\\\n",
       " <chr> & <dbl> & <dbl> & <dbl> & <dbl>\\\\\n",
       "\\hline\n",
       "\t Age             & 5.906824e-05 & 0.95 & 0.00000000 & 0.01111196\\\\\n",
       "\t Condition       & 6.115509e-02 & 0.95 & 0.02936239 & 0.09544019\\\\\n",
       "\t Group           & 9.485672e-02 & 0.95 & 0.03583831 & 0.17089362\\\\\n",
       "\t Condition:Group & 2.527210e-03 & 0.95 & 0.00000000 & 0.01062834\\\\\n",
       "\\end{tabular}\n"
      ],
      "text/markdown": [
       "\n",
       "A effectsize_anova: 4 × 5\n",
       "\n",
       "| Parameter &lt;chr&gt; | Eta2_partial &lt;dbl&gt; | CI &lt;dbl&gt; | CI_low &lt;dbl&gt; | CI_high &lt;dbl&gt; |\n",
       "|---|---|---|---|---|\n",
       "| Age             | 5.906824e-05 | 0.95 | 0.00000000 | 0.01111196 |\n",
       "| Condition       | 6.115509e-02 | 0.95 | 0.02936239 | 0.09544019 |\n",
       "| Group           | 9.485672e-02 | 0.95 | 0.03583831 | 0.17089362 |\n",
       "| Condition:Group | 2.527210e-03 | 0.95 | 0.00000000 | 0.01062834 |\n",
       "\n"
      ],
      "text/plain": [
       "  Parameter       Eta2_partial CI   CI_low     CI_high   \n",
       "1 Age             5.906824e-05 0.95 0.00000000 0.01111196\n",
       "2 Condition       6.115509e-02 0.95 0.02936239 0.09544019\n",
       "3 Group           9.485672e-02 0.95 0.03583831 0.17089362\n",
       "4 Condition:Group 2.527210e-03 0.95 0.00000000 0.01062834"
      ]
     },
     "metadata": {},
     "output_type": "display_data"
    },
    {
     "data": {
      "text/html": [
       "<style>\n",
       ".list-inline {list-style: none; margin:0; padding: 0}\n",
       ".list-inline>li {display: inline-block}\n",
       ".list-inline>li:not(:last-child)::after {content: \"\\00b7\"; padding: 0 .5ex}\n",
       "</style>\n",
       "<ol class=list-inline><li>0</li><li>0.061</li><li>0.095</li><li>0.003</li></ol>\n"
      ],
      "text/latex": [
       "\\begin{enumerate*}\n",
       "\\item 0\n",
       "\\item 0.061\n",
       "\\item 0.095\n",
       "\\item 0.003\n",
       "\\end{enumerate*}\n"
      ],
      "text/markdown": [
       "1. 0\n",
       "2. 0.061\n",
       "3. 0.095\n",
       "4. 0.003\n",
       "\n",
       "\n"
      ],
      "text/plain": [
       "[1] 0.000 0.061 0.095 0.003"
      ]
     },
     "metadata": {},
     "output_type": "display_data"
    },
    {
     "data": {
      "text/html": [
       "<table class=\"dataframe\">\n",
       "<caption>A data.frame: 4 × 6</caption>\n",
       "<thead>\n",
       "\t<tr><th></th><th scope=col>Sum Sq</th><th scope=col>Mean Sq</th><th scope=col>NumDF</th><th scope=col>DenDF</th><th scope=col>F value</th><th scope=col>Pr(&gt;F)</th></tr>\n",
       "\t<tr><th></th><th scope=col>&lt;dbl&gt;</th><th scope=col>&lt;dbl&gt;</th><th scope=col>&lt;dbl&gt;</th><th scope=col>&lt;dbl&gt;</th><th scope=col>&lt;dbl&gt;</th><th scope=col>&lt;dbl&gt;</th></tr>\n",
       "</thead>\n",
       "<tbody>\n",
       "\t<tr><th scope=row>Age</th><td>   0.724</td><td>   0.724</td><td>1</td><td>237</td><td> 0.014</td><td>0.908</td></tr>\n",
       "\t<tr><th scope=row>Condition</th><td>2491.314</td><td> 830.438</td><td>3</td><td>714</td><td>15.503</td><td>0.000</td></tr>\n",
       "\t<tr><th scope=row>Group</th><td>1330.460</td><td>1330.460</td><td>1</td><td>237</td><td>24.837</td><td>0.000</td></tr>\n",
       "\t<tr><th scope=row>Condition:Group</th><td>  96.891</td><td>  32.297</td><td>3</td><td>714</td><td> 0.603</td><td>0.613</td></tr>\n",
       "</tbody>\n",
       "</table>\n"
      ],
      "text/latex": [
       "A data.frame: 4 × 6\n",
       "\\begin{tabular}{r|llllll}\n",
       "  & Sum Sq & Mean Sq & NumDF & DenDF & F value & Pr(>F)\\\\\n",
       "  & <dbl> & <dbl> & <dbl> & <dbl> & <dbl> & <dbl>\\\\\n",
       "\\hline\n",
       "\tAge &    0.724 &    0.724 & 1 & 237 &  0.014 & 0.908\\\\\n",
       "\tCondition & 2491.314 &  830.438 & 3 & 714 & 15.503 & 0.000\\\\\n",
       "\tGroup & 1330.460 & 1330.460 & 1 & 237 & 24.837 & 0.000\\\\\n",
       "\tCondition:Group &   96.891 &   32.297 & 3 & 714 &  0.603 & 0.613\\\\\n",
       "\\end{tabular}\n"
      ],
      "text/markdown": [
       "\n",
       "A data.frame: 4 × 6\n",
       "\n",
       "| <!--/--> | Sum Sq &lt;dbl&gt; | Mean Sq &lt;dbl&gt; | NumDF &lt;dbl&gt; | DenDF &lt;dbl&gt; | F value &lt;dbl&gt; | Pr(&gt;F) &lt;dbl&gt; |\n",
       "|---|---|---|---|---|---|---|\n",
       "| Age |    0.724 |    0.724 | 1 | 237 |  0.014 | 0.908 |\n",
       "| Condition | 2491.314 |  830.438 | 3 | 714 | 15.503 | 0.000 |\n",
       "| Group | 1330.460 | 1330.460 | 1 | 237 | 24.837 | 0.000 |\n",
       "| Condition:Group |   96.891 |   32.297 | 3 | 714 |  0.603 | 0.613 |\n",
       "\n"
      ],
      "text/plain": [
       "                Sum Sq   Mean Sq  NumDF DenDF F value Pr(>F)\n",
       "Age                0.724    0.724 1     237    0.014  0.908 \n",
       "Condition       2491.314  830.438 3     714   15.503  0.000 \n",
       "Group           1330.460 1330.460 1     237   24.837  0.000 \n",
       "Condition:Group   96.891   32.297 3     714    0.603  0.613 "
      ]
     },
     "metadata": {},
     "output_type": "display_data"
    }
   ],
   "source": [
    "print(\"aov amplitude\")\n",
    "aovamp <- round(anova(lmm_amp, type=\"II\", test=\"F\"), 3)\n",
    "eff <- eta_squared(aovamp, alternative=\"two.sided\")\n",
    "eff\n",
    "round(eff$Eta2_partial, 3)\n",
    "aovamp <- as.data.frame(aovamp)\n",
    "aovamp\n",
    "\n",
    "\n",
    "print(\"aov amplitude aligned\")\n",
    "aovampal <- round(anova(lmm_amp_aligned, type=\"II\", test=\"F\"), 3)\n",
    "eff <- eta_squared(aovampal, alternative=\"two.sided\")\n",
    "eff\n",
    "round(eff$Eta2_partial, 3)\n",
    "aovampal <- as.data.frame(aovampal)\n",
    "aovampal\n",
    "\n",
    "print(\"aov cv\")\n",
    "aovcv <- round(anova(lmm_cv, type=\"II\", test=\"F\"), 3)\n",
    "eff <- eta_squared(aovcv, alternative=\"two.sided\")\n",
    "eff\n",
    "round(eff$Eta2_partial, 3)\n",
    "aovcv <- as.data.frame(aovcv)\n",
    "aovcv"
   ]
  },
  {
   "cell_type": "code",
   "execution_count": 26,
   "id": "123599c0",
   "metadata": {},
   "outputs": [
    {
     "name": "stdout",
     "output_type": "stream",
     "text": [
      "explained variance amplitude model"
     ]
    },
    {
     "data": {
      "text/html": [
       "<table class=\"dataframe\">\n",
       "<caption>A data.frame: 1 × 2</caption>\n",
       "<thead>\n",
       "\t<tr><th scope=col>R2m</th><th scope=col>R2c</th></tr>\n",
       "\t<tr><th scope=col>&lt;dbl&gt;</th><th scope=col>&lt;dbl&gt;</th></tr>\n",
       "</thead>\n",
       "<tbody>\n",
       "\t<tr><td>0.19</td><td>0.84</td></tr>\n",
       "</tbody>\n",
       "</table>\n"
      ],
      "text/latex": [
       "A data.frame: 1 × 2\n",
       "\\begin{tabular}{ll}\n",
       " R2m & R2c\\\\\n",
       " <dbl> & <dbl>\\\\\n",
       "\\hline\n",
       "\t 0.19 & 0.84\\\\\n",
       "\\end{tabular}\n"
      ],
      "text/markdown": [
       "\n",
       "A data.frame: 1 × 2\n",
       "\n",
       "| R2m &lt;dbl&gt; | R2c &lt;dbl&gt; |\n",
       "|---|---|\n",
       "| 0.19 | 0.84 |\n",
       "\n"
      ],
      "text/plain": [
       "  R2m  R2c \n",
       "1 0.19 0.84"
      ]
     },
     "metadata": {},
     "output_type": "display_data"
    },
    {
     "data": {
      "text/plain": [
       "\u001b[34m# Intraclass Correlation Coefficient\n",
       "\n",
       "\u001b[39m    Adjusted ICC: 0.809\n",
       "  Unadjusted ICC: 0.659"
      ]
     },
     "metadata": {},
     "output_type": "display_data"
    },
    {
     "name": "stdout",
     "output_type": "stream",
     "text": [
      "explained variance aligned amplitude model"
     ]
    },
    {
     "data": {
      "text/html": [
       "<table class=\"dataframe\">\n",
       "<caption>A data.frame: 1 × 2</caption>\n",
       "<thead>\n",
       "\t<tr><th scope=col>R2m</th><th scope=col>R2c</th></tr>\n",
       "\t<tr><th scope=col>&lt;dbl&gt;</th><th scope=col>&lt;dbl&gt;</th></tr>\n",
       "</thead>\n",
       "<tbody>\n",
       "\t<tr><td>0.12</td><td>0.84</td></tr>\n",
       "</tbody>\n",
       "</table>\n"
      ],
      "text/latex": [
       "A data.frame: 1 × 2\n",
       "\\begin{tabular}{ll}\n",
       " R2m & R2c\\\\\n",
       " <dbl> & <dbl>\\\\\n",
       "\\hline\n",
       "\t 0.12 & 0.84\\\\\n",
       "\\end{tabular}\n"
      ],
      "text/markdown": [
       "\n",
       "A data.frame: 1 × 2\n",
       "\n",
       "| R2m &lt;dbl&gt; | R2c &lt;dbl&gt; |\n",
       "|---|---|\n",
       "| 0.12 | 0.84 |\n",
       "\n"
      ],
      "text/plain": [
       "  R2m  R2c \n",
       "1 0.12 0.84"
      ]
     },
     "metadata": {},
     "output_type": "display_data"
    },
    {
     "data": {
      "text/plain": [
       "\u001b[34m# Intraclass Correlation Coefficient\n",
       "\n",
       "\u001b[39m    Adjusted ICC: 0.823\n",
       "  Unadjusted ICC: 0.728"
      ]
     },
     "metadata": {},
     "output_type": "display_data"
    },
    {
     "name": "stdout",
     "output_type": "stream",
     "text": [
      "explained varaince CV model"
     ]
    },
    {
     "data": {
      "text/html": [
       "<table class=\"dataframe\">\n",
       "<caption>A data.frame: 1 × 2</caption>\n",
       "<thead>\n",
       "\t<tr><th scope=col>R2m</th><th scope=col>R2c</th></tr>\n",
       "\t<tr><th scope=col>&lt;dbl&gt;</th><th scope=col>&lt;dbl&gt;</th></tr>\n",
       "</thead>\n",
       "<tbody>\n",
       "\t<tr><td>0.08</td><td>0.36</td></tr>\n",
       "</tbody>\n",
       "</table>\n"
      ],
      "text/latex": [
       "A data.frame: 1 × 2\n",
       "\\begin{tabular}{ll}\n",
       " R2m & R2c\\\\\n",
       " <dbl> & <dbl>\\\\\n",
       "\\hline\n",
       "\t 0.08 & 0.36\\\\\n",
       "\\end{tabular}\n"
      ],
      "text/markdown": [
       "\n",
       "A data.frame: 1 × 2\n",
       "\n",
       "| R2m &lt;dbl&gt; | R2c &lt;dbl&gt; |\n",
       "|---|---|\n",
       "| 0.08 | 0.36 |\n",
       "\n"
      ],
      "text/plain": [
       "  R2m  R2c \n",
       "1 0.08 0.36"
      ]
     },
     "metadata": {},
     "output_type": "display_data"
    },
    {
     "data": {
      "text/plain": [
       "\u001b[34m# Intraclass Correlation Coefficient\n",
       "\n",
       "\u001b[39m    Adjusted ICC: 0.308\n",
       "  Unadjusted ICC: 0.284"
      ]
     },
     "metadata": {},
     "output_type": "display_data"
    },
    {
     "data": {
      "image/png": "[encoded data removed]",
      "text/plain": [
       "plot without title"
      ]
     },
     "metadata": {
      "image/png": {
       "height": 420,
       "width": 420
      }
     },
     "output_type": "display_data"
    }
   ],
   "source": [
    "cat(\"explained variance amplitude model\")\n",
    "expvaramp <- round(r.squaredGLMM(lmm_amp), 2)\n",
    "expvaramp <- as.data.frame(expvaramp)\n",
    "expvaramp\n",
    "icc(lmm_amp)\n",
    "\n",
    "cat(\"explained variance aligned amplitude model\")\n",
    "expvarampal <- round(r.squaredGLMM(lmm_amp_aligned), 2)\n",
    "expvarampal <- as.data.frame(expvarampal)\n",
    "expvarampal\n",
    "icc(lmm_amp_aligned)\n",
    "\n",
    "\n",
    "cat(\"explained varaince CV model\")\n",
    "expvarcv <- round(r.squaredGLMM(lmm_cv), 2)\n",
    "expvarcv <- as.data.frame(expvarcv)\n",
    "expvarcv\n",
    "icc(lmm_cv)\n",
    "\n",
    "lattice::xyplot(MinNonAl ~ Group|Condition, groups=Condition, data=results, type=c('p','r'), auto.key=F)"
   ]
  }
 ],
 "metadata": {
  "kernelspec": {
   "display_name": "R [conda env:rstats_eeg]",
   "language": "R",
   "name": "conda-env-rstats_eeg-r"
  },
  "language_info": {
   "codemirror_mode": "r",
   "file_extension": ".r",
   "mimetype": "text/x-r-source",
   "name": "R",
   "pygments_lexer": "r",
   "version": "4.0.1"
  }
 },
 "nbformat": 4,
 "nbformat_minor": 5
}
